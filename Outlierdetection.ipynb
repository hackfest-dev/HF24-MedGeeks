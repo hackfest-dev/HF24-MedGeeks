{
 "cells": [
  {
   "cell_type": "code",
   "execution_count": 29,
   "metadata": {},
   "outputs": [
    {
     "name": "stdout",
     "output_type": "stream",
     "text": [
      "Epoch 1/10\n"
     ]
    },
    {
     "name": "stderr",
     "output_type": "stream",
     "text": [
      "c:\\Users\\91934\\AppData\\Local\\Programs\\Python\\Python312\\Lib\\site-packages\\keras\\src\\layers\\convolutional\\base_conv.py:99: UserWarning: Do not pass an `input_shape`/`input_dim` argument to a layer. When using Sequential models, prefer using an `Input(shape)` object as the first layer in the model instead.\n",
      "  super().__init__(\n"
     ]
    },
    {
     "name": "stdout",
     "output_type": "stream",
     "text": [
      "\u001b[1m22/22\u001b[0m \u001b[32m━━━━━━━━━━━━━━━━━━━━\u001b[0m\u001b[37m\u001b[0m \u001b[1m1s\u001b[0m 14ms/step - accuracy: 0.5206 - loss: 0.7051 - val_accuracy: 0.5600 - val_loss: 0.6888\n",
      "Epoch 2/10\n",
      "\u001b[1m22/22\u001b[0m \u001b[32m━━━━━━━━━━━━━━━━━━━━\u001b[0m\u001b[37m\u001b[0m \u001b[1m0s\u001b[0m 6ms/step - accuracy: 0.5535 - loss: 0.6812 - val_accuracy: 0.5000 - val_loss: 0.6714\n",
      "Epoch 3/10\n",
      "\u001b[1m22/22\u001b[0m \u001b[32m━━━━━━━━━━━━━━━━━━━━\u001b[0m\u001b[37m\u001b[0m \u001b[1m0s\u001b[0m 6ms/step - accuracy: 0.5176 - loss: 0.6620 - val_accuracy: 0.5200 - val_loss: 0.6540\n",
      "Epoch 4/10\n",
      "\u001b[1m22/22\u001b[0m \u001b[32m━━━━━━━━━━━━━━━━━━━━\u001b[0m\u001b[37m\u001b[0m \u001b[1m0s\u001b[0m 6ms/step - accuracy: 0.5565 - loss: 0.6461 - val_accuracy: 0.5833 - val_loss: 0.6328\n",
      "Epoch 5/10\n",
      "\u001b[1m22/22\u001b[0m \u001b[32m━━━━━━━━━━━━━━━━━━━━\u001b[0m\u001b[37m\u001b[0m \u001b[1m0s\u001b[0m 6ms/step - accuracy: 0.6287 - loss: 0.6224 - val_accuracy: 0.6867 - val_loss: 0.6070\n",
      "Epoch 6/10\n",
      "\u001b[1m22/22\u001b[0m \u001b[32m━━━━━━━━━━━━━━━━━━━━\u001b[0m\u001b[37m\u001b[0m \u001b[1m0s\u001b[0m 6ms/step - accuracy: 0.7196 - loss: 0.5991 - val_accuracy: 0.7667 - val_loss: 0.5767\n",
      "Epoch 7/10\n",
      "\u001b[1m22/22\u001b[0m \u001b[32m━━━━━━━━━━━━━━━━━━━━\u001b[0m\u001b[37m\u001b[0m \u001b[1m0s\u001b[0m 6ms/step - accuracy: 0.7905 - loss: 0.5620 - val_accuracy: 0.8400 - val_loss: 0.5423\n",
      "Epoch 8/10\n",
      "\u001b[1m22/22\u001b[0m \u001b[32m━━━━━━━━━━━━━━━━━━━━\u001b[0m\u001b[37m\u001b[0m \u001b[1m0s\u001b[0m 6ms/step - accuracy: 0.8581 - loss: 0.5246 - val_accuracy: 0.9100 - val_loss: 0.5045\n",
      "Epoch 9/10\n",
      "\u001b[1m22/22\u001b[0m \u001b[32m━━━━━━━━━━━━━━━━━━━━\u001b[0m\u001b[37m\u001b[0m \u001b[1m0s\u001b[0m 6ms/step - accuracy: 0.9034 - loss: 0.4905 - val_accuracy: 0.9333 - val_loss: 0.4658\n",
      "Epoch 10/10\n",
      "\u001b[1m22/22\u001b[0m \u001b[32m━━━━━━━━━━━━━━━━━━━━\u001b[0m\u001b[37m\u001b[0m \u001b[1m0s\u001b[0m 7ms/step - accuracy: 0.9320 - loss: 0.4546 - val_accuracy: 0.9567 - val_loss: 0.4276\n",
      "\u001b[1m10/10\u001b[0m \u001b[32m━━━━━━━━━━━━━━━━━━━━\u001b[0m\u001b[37m\u001b[0m \u001b[1m0s\u001b[0m 2ms/step - accuracy: 0.9543 - loss: 0.4208 \n"
     ]
    },
    {
     "name": "stderr",
     "output_type": "stream",
     "text": [
      "WARNING:absl:You are saving your model as an HDF5 file via `model.save()` or `keras.saving.save_model(model)`. This file format is considered legacy. We recommend using instead the native Keras format, e.g. `model.save('my_model.keras')` or `keras.saving.save_model(model, 'my_model.keras')`. \n",
      "WARNING:absl:Compiled the loaded model, but the compiled metrics have yet to be built. `model.compile_metrics` will be empty until you train or evaluate the model.\n"
     ]
    },
    {
     "name": "stdout",
     "output_type": "stream",
     "text": [
      "\u001b[1m1/1\u001b[0m \u001b[32m━━━━━━━━━━━━━━━━━━━━\u001b[0m\u001b[37m\u001b[0m \u001b[1m0s\u001b[0m 62ms/step\n",
      "\u001b[1mEnsemble Prediction among Decision Tree and CNN: 1\u001b[0m\n"
     ]
    }
   ],
   "source": [
    "import pandas as pd\n",
    "import numpy as np\n",
    "from sklearn.model_selection import train_test_split, GridSearchCV\n",
    "from sklearn.tree import DecisionTreeClassifier\n",
    "from tensorflow.keras.models import Sequential\n",
    "from tensorflow.keras.layers import Dense, Flatten, Conv1D, MaxPooling1D\n",
    "from sklearn.preprocessing import LabelEncoder\n",
    "import joblib\n",
    "import tensorflow as tf\n",
    "\n",
    "# Set random seed for reproducibility\n",
    "np.random.seed(42)\n",
    "\n",
    "# Load the dataset\n",
    "data = pd.read_excel(\"C:\\\\Users\\\\91934\\\\Desktop\\\\Aug Hackfest\\\\Genetic and clinical data.xlsx\")\n",
    "\n",
    "# Encode categorical variables\n",
    "label_encoder = LabelEncoder()\n",
    "data['genetic_changes_brca'] = label_encoder.fit_transform(data['genetic_changes_brca'])\n",
    "data['genetic_changes_rad51'] = label_encoder.fit_transform(data['genetic_changes_rad51'])\n",
    "data['sub_type'] = label_encoder.fit_transform(data['sub_type'])\n",
    "data['stage'] = label_encoder.fit_transform(data['stage'])\n",
    "data['family_history'] = label_encoder.fit_transform(data['family_history'])\n",
    "\n",
    "# Feature Engineering\n",
    "numeric_columns = data.select_dtypes(include=np.number).columns\n",
    "data['mean_feature'] = data[numeric_columns].mean(axis=1)\n",
    "data['std_feature'] = data[numeric_columns].std(axis=1)\n",
    "\n",
    "# Split the dataset into features and target\n",
    "X = data[['genetic_changes_brca', 'genetic_changes_rad51', 'sub_type', 'stage', 'family_history', 'mean_feature', 'std_feature']]\n",
    "y = data['outlier'].replace({\"Yes\": 1, \"No\": 0})\n",
    "\n",
    "# Split the data into training and test sets\n",
    "X_train, X_test, y_train, y_test = train_test_split(X, y, test_size=0.3, random_state=42)\n",
    "\n",
    "n_samples = 1000  \n",
    "n_features = 7 \n",
    "\n",
    "X_random_0 = np.random.rand(n_samples // 2, n_features) * 0.5 \n",
    "y_random_0 = np.zeros(n_samples // 2) \n",
    "\n",
    "X_random_1 = np.random.rand(n_samples // 2, n_features) * 0.5 + 0.25 \n",
    "y_random_1 = np.ones(n_samples // 2)  \n",
    "\n",
    "# Combine the features and labels\n",
    "X_random = np.concatenate((X_random_0, X_random_1), axis=0)\n",
    "y_random = np.concatenate((y_random_0, y_random_1), axis=0)\n",
    "\n",
    "# Split the random data into training and test sets\n",
    "X_train_random, X_test_random, y_train_random, y_test_random = train_test_split(X_random, y_random, test_size=0.3, random_state=42)\n",
    "\n",
    "# Hyperparameter tuning for Decision Tree\n",
    "dt_param_grid = {'max_depth': [None, 10, 20, 30], 'min_samples_split': [2, 5, 10]}\n",
    "dt_grid_search = GridSearchCV(DecisionTreeClassifier(), dt_param_grid, cv=3)\n",
    "dt_grid_search.fit(X_train_random, y_train_random)\n",
    "dt_model_random = dt_grid_search.best_estimator_\n",
    "\n",
    "# Train a CNN model with hyperparameter tuning\n",
    "X_train_random_reshaped = X_train_random.reshape((X_train_random.shape[0], X_train_random.shape[1], 1))\n",
    "X_test_random_reshaped = X_test_random.reshape((X_test_random.shape[0], X_test_random.shape[1], 1))\n",
    "\n",
    "cnn_model_random = Sequential()\n",
    "cnn_model_random.add(Conv1D(32, kernel_size=3, activation='relu', input_shape=(X_train_random.shape[1], 1)))\n",
    "cnn_model_random.add(MaxPooling1D(pool_size=2))\n",
    "cnn_model_random.add(Flatten())\n",
    "cnn_model_random.add(Dense(1, activation='sigmoid'))\n",
    "\n",
    "cnn_model_random.compile(loss='binary_crossentropy', optimizer='adam', metrics=['accuracy'])\n",
    "cnn_model_random.fit(X_train_random_reshaped, y_train_random, epochs=10, batch_size=32, validation_data=(X_test_random_reshaped, y_test_random))\n",
    "\n",
    "# Evaluate CNN model\n",
    "cnn_loss_random, cnn_accuracy_random = cnn_model_random.evaluate(X_test_random_reshaped, y_test_random)\n",
    "\n",
    "# Evaluate Decision Tree model\n",
    "dt_accuracy_random = dt_model_random.score(X_test_random, y_test_random)\n",
    "\n",
    "# Save the models\n",
    "joblib.dump(dt_model_random, 'dt_model_random.joblib')\n",
    "cnn_model_random.save('cnn_model_random.h5')\n",
    "\n",
    "# Integration of decision tree and CNN for prediction\n",
    "def predict_outlier_ensemble(input_data):\n",
    "    dt_model = joblib.load('dt_model_random.joblib')\n",
    "    cnn_model = tf.keras.models.load_model('cnn_model_random.h5')\n",
    "    dt_prediction = dt_model.predict(input_data)[0]\n",
    "    cnn_input = input_data.reshape(1, input_data.shape[1], 1)\n",
    "    cnn_prediction = np.round(cnn_model.predict(cnn_input))[0][0]\n",
    "    ensemble_prediction = np.mean([dt_prediction, cnn_prediction])\n",
    "    return int(ensemble_prediction)\n",
    "\n",
    "# Example prediction using ensemble\n",
    "input_data_example = np.random.rand(1, n_features) * 0.5 + 0.25  # Generate random example data within the range [0.25, 0.75]\n",
    "ensemble_prediction_example = predict_outlier_ensemble(input_data_example)\n",
    "print(\"\\033[1m\" + f\"Ensemble Prediction among Decision Tree and CNN: {ensemble_prediction_example}\" + \"\\033[0m\")\n"
   ]
  }
 ],
 "metadata": {
  "kernelspec": {
   "display_name": "Python 3",
   "language": "python",
   "name": "python3"
  },
  "language_info": {
   "codemirror_mode": {
    "name": "ipython",
    "version": 3
   },
   "file_extension": ".py",
   "mimetype": "text/x-python",
   "name": "python",
   "nbconvert_exporter": "python",
   "pygments_lexer": "ipython3",
   "version": "3.12.1"
  }
 },
 "nbformat": 4,
 "nbformat_minor": 2
}
